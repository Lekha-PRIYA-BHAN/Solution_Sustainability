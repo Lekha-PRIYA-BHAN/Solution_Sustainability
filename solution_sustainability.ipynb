{
 "cells": [
  {
   "cell_type": "code",
   "execution_count": 104,
   "metadata": {},
   "outputs": [],
   "source": [
    "# https://medium.aiplanet.com/multimodal-rag-using-langchain-expression-language-and-gpt4-vision-8a94c8b02d21\n",
    "# https://medium.com/@astropomeai/gpt-4-vision-trying-out-real-time-image-analysis-based-on-context-31213a558153\n",
    "# https://colab.research.google.com/drive/1-3ehQP-s03z-LeOWYxTkQAUNwUDsaA58?usp=sharing\n",
    "\n",
    "import os\n",
    "import base64\n",
    "\n",
    "from dotenv import load_dotenv\n",
    "x=load_dotenv()"
   ]
  },
  {
   "cell_type": "code",
   "execution_count": 105,
   "metadata": {},
   "outputs": [],
   "source": [
    "# Requires:\n",
    "# pip install langchain docarray tiktoken\n",
    "\n",
    "from operator import itemgetter\n",
    "from langchain.schema import format_document\n",
    "\n",
    "from langchain_community.vectorstores import DocArrayInMemorySearch\n",
    "from langchain_core.output_parsers import StrOutputParser\n",
    "from langchain_core.prompts import ChatPromptTemplate\n",
    "from langchain.prompts.prompt import PromptTemplate\n",
    "from langchain_core.runnables import RunnableParallel, RunnablePassthrough, RunnableLambda\n",
    "from langchain_openai.chat_models import ChatOpenAI\n",
    "from langchain_openai.embeddings import OpenAIEmbeddings\n",
    "\n",
    "from langchain_core.prompts import MessagesPlaceholder\n",
    "from langchain_core.messages import AIMessage, HumanMessage, get_buffer_string\n",
    "from langchain.memory import ConversationBufferMemory\n",
    "\n",
    "from langchain_community.vectorstores import FAISS\n",
    "from langchain_core.messages import HumanMessage, SystemMessage"
   ]
  },
  {
   "cell_type": "code",
   "execution_count": 107,
   "metadata": {},
   "outputs": [],
   "source": [
    "llm = ChatOpenAI(temperature=0, model=\"gpt-4-vision-preview\", max_tokens=3000)"
   ]
  },
  {
   "cell_type": "code",
   "execution_count": 108,
   "metadata": {},
   "outputs": [],
   "source": [
    "\n",
    "\n",
    "prompt = ChatPromptTemplate.from_messages([\n",
    "    SystemMessage(\n",
    "        content=(\n",
    "            \"You are world class cloud architecture analyzer.\"\n",
    "        )\n",
    "    ),\n",
    "    HumanMessage(\n",
    "        content=[\n",
    "            {\"type\": \"text\", \"text\": \"This is an architecture to be implemented on Azure. Estimate the carbon footprint. Start by making assumptions. Based on the assumptions determine what would be the carbon footprint for each component.\"},\n",
    "            {\n",
    "                \"type\": \"image_url\",\n",
    "                \"image_url\": {\n",
    "                    \"url\": f\"data:image/png;base64,{base64_image}\",\n",
    "                    \"detail\": \"auto\",\n",
    "                },\n",
    "            },\n",
    "        ]\n",
    "    )]\n",
    ")"
   ]
  },
  {
   "cell_type": "code",
   "execution_count": 109,
   "metadata": {},
   "outputs": [],
   "source": [
    "chain = prompt | llm"
   ]
  },
  {
   "cell_type": "code",
   "execution_count": 110,
   "metadata": {},
   "outputs": [],
   "source": [
    "# Function to encode the image\n",
    "def encode_image(image_path):\n",
    "  with open(image_path, \"rb\") as image_file:\n",
    "    return base64.b64encode(image_file.read()).decode('utf-8')\n",
    "image_path = f\"C:/Users/MANISHGUPTA/kyndryl/github/solution-sustainability/images/architecture.png\"\n",
    "\n",
    "# Getting the base64 string\n",
    "base64_image = encode_image(image_path)"
   ]
  },
  {
   "cell_type": "code",
   "execution_count": 111,
   "metadata": {},
   "outputs": [],
   "source": [
    "response = chain.invoke({\"base64_image\": base64_image})"
   ]
  },
  {
   "cell_type": "code",
   "execution_count": 112,
   "metadata": {},
   "outputs": [
    {
     "name": "stdout",
     "output_type": "stream",
     "text": [
      "Estimating the carbon footprint of a cloud architecture on Azure involves considering various factors such as the energy efficiency of the data centers, the source of electricity, and the specific services used. Microsoft has been making strides in sustainability and aims to be carbon negative by 2030. However, for the purpose of this exercise, we'll make some general assumptions and provide a rough estimate of the carbon footprint for each component.\n",
      "\n",
      "Assumptions:\n",
      "1. The energy consumption of each Azure service is proportional to its usage (compute, storage, and networking).\n",
      "2. The data centers hosting these services are powered by a mix of renewable and non-renewable energy sources.\n",
      "3. The average carbon intensity for electricity generation is approximately 0.4 kg CO2e per kWh (this is a rough global average and can vary significantly by region and over time).\n",
      "\n",
      "Components:\n",
      "1. Azure Sphere: This is a secure IoT platform. Its carbon footprint would be relatively low as it's designed to be efficient and the devices themselves are not high-power.\n",
      "2. IoT Hub: This service enables bidirectional communication between IoT applications and the devices they manage. It's a cloud gateway, so its footprint would depend on the amount of data it processes.\n",
      "3. Azure Stream Analytics: This service processes large streams of data in real-time. It could have a significant footprint depending on the volume of data and the complexity of the queries.\n",
      "4. Azure Synapse Analytics: This is a big data and analytics service. Its footprint would be high if it's used for complex data processing tasks on large datasets.\n",
      "5. Azure Cosmos DB: A globally distributed, multi-model database service. Its footprint would depend on the provisioned throughput and storage.\n",
      "6. Azure SQL Database: This is a managed relational database service. Its footprint would depend on the size of the databases and the amount of compute used.\n",
      "7. Azure IoT Edge: This service allows data processing closer to the source. It could reduce the overall footprint by decreasing the amount of data that needs to be sent to the cloud.\n",
      "8. HoloLens: While not a cloud service, the use of HoloLens devices would contribute to the footprint based on their manufacturing and usage.\n",
      "\n",
      "Shared Services:\n",
      "- Azure Defender for IoT, Azure DevOps, Azure Monitor, Azure Key Vault, and Azure Active Directory: These services would have varying footprints based on their usage. Monitoring, security, and development tools typically have a lower footprint compared to data-intensive services.\n",
      "\n",
      "To calculate the carbon footprint for each component, you would need to know the specific usage metrics such as CPU hours, memory usage, data transfer, and storage requirements. Once you have these metrics, you could use the average carbon intensity to estimate the footprint.\n",
      "\n",
      "For example, if a service uses 10,000 CPU hours in a month and the data center's energy source has a carbon intensity of 0.4 kg CO2e per kWh, and assuming an average server consumes about 0.1 kWh per CPU hour, the carbon footprint would be:\n",
      "\n",
      "10,000 CPU hours * 0.1 kWh/CPU hour * 0.4 kg CO2e/kWh = 400 kg CO2e\n",
      "\n",
      "This is a simplified example, and in reality, you would need to consider additional factors such as the energy used for cooling, the PUE (Power Usage Effectiveness) of the data center, and the specific energy mix for the region where the data center is located.\n",
      "\n",
      "Microsoft provides tools like the Microsoft Sustainability Calculator that can help customers estimate the carbon footprint of their Azure services based on their actual usage data. This tool takes into account Microsoft's commitments to sustainability and the purchase of renewable energy on behalf of its customers.\n"
     ]
    }
   ],
   "source": [
    "print(response.content)"
   ]
  }
 ],
 "metadata": {
  "kernelspec": {
   "display_name": "autogenenv",
   "language": "python",
   "name": "python3"
  },
  "language_info": {
   "codemirror_mode": {
    "name": "ipython",
    "version": 3
   },
   "file_extension": ".py",
   "mimetype": "text/x-python",
   "name": "python",
   "nbconvert_exporter": "python",
   "pygments_lexer": "ipython3",
   "version": "3.11.0"
  }
 },
 "nbformat": 4,
 "nbformat_minor": 2
}
